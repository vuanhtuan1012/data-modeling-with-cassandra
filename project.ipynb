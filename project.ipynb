{
 "cells": [
  {
   "cell_type": "markdown",
   "metadata": {},
   "source": [
    "# Data modeling with Cassandra\n",
    "\n",
    "A startup called Sparkify wants to analyze the data they've been collecting on songs and user activity on their new music streaming app. The analysis team is particularly interested in understanding what songs users are listening to. Currently, there is no easy way to query the data to generate the results, since the data reside in a directory of CSV files on user activity on the app.\n",
    "\n",
    "In this project I will create an Apache Cassandra database which can create queries on song play data to answer the questions."
   ]
  },
  {
   "cell_type": "markdown",
   "metadata": {},
   "source": [
    "## Datasets\n",
    "\n",
    "The dataset `event_data` is stored in the directory [event_data](event_data/)   which contains CSV files partioned by date. Here are examples of filepaths to two files in the dataset:\n",
    "\n",
    "```\n",
    "event_data/2018-11-08-events.csv\n",
    "event_data/2018-11-09-events.csv\n",
    "```"
   ]
  },
  {
   "cell_type": "markdown",
   "metadata": {},
   "source": [
    "## ETL pipeline\n",
    "\n",
    "![pipeline](images/pipeline.svg)\n",
    "\n",
    "The figure above presents the ETL pipeline of project. It consists of three steps:\n",
    "\n",
    "1. **E**xtract: Process CSV files in the directory [event_data](event_data/) to create a new CSV file.\n",
    "2. **T**ransform: Create an Apache Cassandra database and transform data from the new CSV file into tables.\n",
    "3. **L**oad: Do queries on database."
   ]
  },
  {
   "cell_type": "markdown",
   "metadata": {},
   "source": [
    "## 1. Process CSV files"
   ]
  },
  {
   "cell_type": "markdown",
   "metadata": {},
   "source": [
    "### Import Python packages "
   ]
  },
  {
   "cell_type": "code",
   "execution_count": 1,
   "metadata": {},
   "outputs": [],
   "source": [
    "import cassandra\n",
    "import os\n",
    "import glob\n",
    "import csv\n",
    "from prettytable import PrettyTable"
   ]
  },
  {
   "cell_type": "markdown",
   "metadata": {},
   "source": [
    "### Process CSV files"
   ]
  },
  {
   "cell_type": "markdown",
   "metadata": {},
   "source": [
    "#### Create list of filepaths to process original event csv data files"
   ]
  },
  {
   "cell_type": "code",
   "execution_count": 2,
   "metadata": {},
   "outputs": [
    {
     "name": "stdout",
     "output_type": "stream",
     "text": [
      "current working directory: /mnt/d/GitHub/data-modeling-with-cassandra\n"
     ]
    }
   ],
   "source": [
    "# checking the current working directory\n",
    "print(\"current working directory: %s\" % os.getcwd())\n",
    "\n",
    "# Get the file path to the sub-directory event_data\n",
    "filepath = os.getcwd() + '/event_data'\n",
    "\n",
    "# Create a for loop to create a list of files and collect each filepath\n",
    "for root, dirs, files in os.walk(filepath):\n",
    "    # join the file path and roots with the subdirectories using glob\n",
    "    file_path_list = glob.glob(os.path.join(root,'*'))"
   ]
  },
  {
   "cell_type": "markdown",
   "metadata": {},
   "source": [
    "#### Process the files to create the data file csv that will be used for Apache Casssandra tables"
   ]
  },
  {
   "cell_type": "code",
   "execution_count": 3,
   "metadata": {},
   "outputs": [],
   "source": [
    "# set the filename of the new csv file\n",
    "new_datafile = \"event_datafile_new.csv\""
   ]
  },
  {
   "cell_type": "code",
   "execution_count": 4,
   "metadata": {},
   "outputs": [
    {
     "name": "stdout",
     "output_type": "stream",
     "text": [
      "total rows: 8056\n"
     ]
    }
   ],
   "source": [
    "# initiating an empty list of rows that will be generated from each file\n",
    "full_data_rows_list = [] \n",
    "    \n",
    "# for every filepath in the file path list \n",
    "for f in file_path_list:\n",
    "    # reading csv file \n",
    "    with open(f, 'r', encoding = 'utf8', newline='') as csvfile: \n",
    "        # creating a csv reader object \n",
    "        csvreader = csv.reader(csvfile) \n",
    "        next(csvreader)\n",
    "        # extracting each data row one by one and append it        \n",
    "        for line in csvreader:\n",
    "            full_data_rows_list.append(line) \n",
    "\n",
    "# check total rows\n",
    "print(\"total rows: %s\" % len(full_data_rows_list))\n",
    "\n",
    "# creating a smaller event data csv file called event_datafile_new csv that\n",
    "# will be used to insert data into the Apache Cassandra tables\n",
    "csv.register_dialect('myDialect', quoting=csv.QUOTE_ALL, skipinitialspace=True)\n",
    "\n",
    "with open(new_datafile, 'w', encoding = 'utf8', newline='') as f:\n",
    "    writer = csv.writer(f, dialect='myDialect')\n",
    "    writer.writerow(['artist','firstName','gender','itemInSession','lastName','length',\\\n",
    "                'level','location','sessionId','song','userId'])\n",
    "    for row in full_data_rows_list:\n",
    "        if (row[0] == ''):\n",
    "            continue\n",
    "        writer.writerow((row[0], row[2], row[3], row[4], row[5], row[6], row[7], row[8], row[12], row[13], row[16]))"
   ]
  },
  {
   "cell_type": "code",
   "execution_count": 22,
   "metadata": {},
   "outputs": [
    {
     "name": "stdout",
     "output_type": "stream",
     "text": [
      "number of rows in the new csv file: 6821\n"
     ]
    }
   ],
   "source": [
    "# check the number of rows in the csv file\n",
    "print(\"number of rows in the new csv file:\", end=\" \")\n",
    "with open(new_datafile, 'r', encoding = 'utf8') as f:\n",
    "    print(sum(1 for line in f))"
   ]
  },
  {
   "cell_type": "markdown",
   "metadata": {},
   "source": [
    "## 2. Transform data into a Cassandra database\n",
    "\n",
    "The image below is a screenshot of what the denormalized data should appear like in the `event_datafile_new.csv` after the processing of CSV files.<br>\n",
    "\n",
    "<img src=\"images/image_event_datafile_new.jpg\">\n",
    "\n",
    "The `event_datafile_new.csv` contains the following columns: \n",
    "0. artist\n",
    "1. firstName of user\n",
    "2. gender of user\n",
    "3. item number in session\n",
    "4. last name of user\n",
    "5. length of the song\n",
    "6. level (paid or free song)\n",
    "7. location of the user\n",
    "8. sessionId\n",
    "9. song title\n",
    "10. userId"
   ]
  },
  {
   "cell_type": "markdown",
   "metadata": {},
   "source": [
    "### 2.1. Initialize cluster, session and keyspace"
   ]
  },
  {
   "cell_type": "markdown",
   "metadata": {},
   "source": [
    "#### Create a Cluster"
   ]
  },
  {
   "cell_type": "code",
   "execution_count": 6,
   "metadata": {},
   "outputs": [],
   "source": [
    "from cassandra.cluster import Cluster\n",
    "cluster = Cluster()\n",
    "session = cluster.connect()"
   ]
  },
  {
   "cell_type": "markdown",
   "metadata": {},
   "source": [
    "#### Create Keyspace"
   ]
  },
  {
   "cell_type": "code",
   "execution_count": 7,
   "metadata": {},
   "outputs": [],
   "source": [
    "try:\n",
    "    session.execute(\"CREATE KEYSPACE IF NOT EXISTS sparkify \\\n",
    "        WITH REPLICATION = {'class': 'SimpleStrategy', 'replication_factor': 1}\"\n",
    "    )\n",
    "except Exception as e:\n",
    "    print(e)"
   ]
  },
  {
   "cell_type": "markdown",
   "metadata": {},
   "source": [
    "#### Set Keyspace"
   ]
  },
  {
   "cell_type": "code",
   "execution_count": 8,
   "metadata": {},
   "outputs": [],
   "source": [
    "try:\n",
    "    session.set_keyspace('sparkify')\n",
    "except Exception as e:\n",
    "    print(e)"
   ]
  },
  {
   "cell_type": "markdown",
   "metadata": {},
   "source": [
    "### 2.2. Create tables and insert data\n",
    "\n",
    "In this step we will create tables to answer the following three questions of the data:\n",
    "- Question 1: Give me the artist, song title and song's length in the music app history that was heard during a given session id and item in session, for example, `sessionId = 338`, and `itemInSession = 4`\n",
    "- Question 2: Give me only the following: name of artist, song (sorted by itemInSession) and user (first and last name) for a given user id and session id, for example, `userid = 10` and `sessionid = 182`\n",
    "- Question 3: Give me every user name (first and last) in my music app history who listened to a given song, for example, to the song `All Hands Against His Own`"
   ]
  },
  {
   "cell_type": "markdown",
   "metadata": {},
   "source": [
    "#### Question 1: Give me the artist, song title and song's length in the music app history that was heard during a given session id and item in session\n",
    "\n",
    "To answer this question, we will create the table `artist_song_session` which consists of 5 columns:\n",
    "- `session_id`: stores the session id, data type: int\n",
    "- `item_in_session`: stores the item number in session, data type: int\n",
    "- `artist`: stores the artist name, data type: text\n",
    "- `song`: stores the song title, data type: text\n",
    "- `length`: stores the song's length, data type: float\n",
    "\n",
    "The partition key is `session_id`, and the column key is `item_in_session`."
   ]
  },
  {
   "cell_type": "markdown",
   "metadata": {},
   "source": [
    "##### Create table"
   ]
  },
  {
   "cell_type": "code",
   "execution_count": 9,
   "metadata": {},
   "outputs": [],
   "source": [
    "query = \"CREATE TABLE IF NOT EXISTS artist_song_session \"\n",
    "query += \"(session_id int, item_in_session int, artist text, song text, length double, \\\n",
    "PRIMARY KEY (session_id, item_in_session))\"\n",
    "try:\n",
    "    session.execute(query)\n",
    "except Exception as e:\n",
    "    print(e)    "
   ]
  },
  {
   "cell_type": "markdown",
   "metadata": {},
   "source": [
    "##### Insert data"
   ]
  },
  {
   "cell_type": "code",
   "execution_count": 10,
   "metadata": {
    "scrolled": false
   },
   "outputs": [],
   "source": [
    "with open(new_datafile, encoding = 'utf8') as f:\n",
    "    csvreader = csv.reader(f)\n",
    "    next(csvreader) # skip header\n",
    "    for line in csvreader:\n",
    "        query = \"INSERT INTO artist_song_session (session_id, item_in_session, artist, song, length)\"\n",
    "        query = query + \" VALUES (%s, %s, %s, %s, %s)\"\n",
    "        session.execute(query, (int(line[8]), int(line[3]), line[0], line[9], float(line[5])))"
   ]
  },
  {
   "cell_type": "markdown",
   "metadata": {},
   "source": [
    "#### Question 2: Give me only the following: name of artist, song (sorted by itemInSession) and user (first and last name) for a given user id and session id\n",
    "\n",
    "To answer this question, we will create the table `song_playlist_session` which consists of 7 columns:\n",
    "\n",
    "- `user_id`: stores the user id, data type: int\n",
    "- `session_id`: stores the session id, data type: int\n",
    "- `item_in_session`: stores the item number in session, data type: int\n",
    "- `artist`: stores the artist name, data type: text\n",
    "- `song`: stores the song title, data type: text\n",
    "- `first_name`: stores the first name of user, data type: text\n",
    "- `last_name`: stores the last name of, data type: text\n",
    "\n",
    "The partition keys are `user_id` and `session_id`. We use both `user_id` and `session_id` as primary keys so that sessions from the same user are stored in the same nodes.\n",
    "\n",
    "The column key is `item_in_session` as we need songs sorted by item in section."
   ]
  },
  {
   "cell_type": "markdown",
   "metadata": {},
   "source": [
    "##### Create table"
   ]
  },
  {
   "cell_type": "code",
   "execution_count": 11,
   "metadata": {},
   "outputs": [],
   "source": [
    "query = \"CREATE TABLE IF NOT EXISTS song_playlist_session \"\n",
    "query += \"(user_id int, session_id int, item_in_session int, artist text, song text, \\\n",
    "first_name text, last_name text, PRIMARY KEY ((user_id, session_id), item_in_session))\"\n",
    "try:\n",
    "    session.execute(query)\n",
    "except Exception as e:\n",
    "    print(e)"
   ]
  },
  {
   "cell_type": "markdown",
   "metadata": {},
   "source": [
    "##### Insert data"
   ]
  },
  {
   "cell_type": "code",
   "execution_count": 12,
   "metadata": {},
   "outputs": [],
   "source": [
    "with open(new_datafile, encoding = 'utf8') as f:\n",
    "    csvreader = csv.reader(f)\n",
    "    next(csvreader) # skip header\n",
    "    for line in csvreader:\n",
    "        query = \"INSERT INTO song_playlist_session (user_id, session_id, item_in_session, artist, song, \\\n",
    "                first_name, last_name)\"\n",
    "        query = query + \" VALUES (%s, %s, %s, %s, %s, %s, %s)\"\n",
    "        session.execute(query, (int(line[10]), int(line[8]), int(line[3]), line[0], line[9], line[1], line[4]))  "
   ]
  },
  {
   "cell_type": "markdown",
   "metadata": {},
   "source": [
    "#### Question 3: Give me every user name (first and last) in my music app history who listened to a given song\n",
    "\n",
    "To answer this question, we will create the table `user_song` which consists of 4 columns:\n",
    "\n",
    "- `song`: stores the song title, data type: text\n",
    "- `user_id`: stores the user id, data type: int\n",
    "- `first_name`: stores the first name of user, data type: text\n",
    "- `last_name`: stores the last name of, data type: text\n",
    "\n",
    "The partition key is `song`, and the column key is `user_id`. We add `user_id` to primary key to ensure the row data is unique."
   ]
  },
  {
   "cell_type": "markdown",
   "metadata": {},
   "source": [
    "##### Create table"
   ]
  },
  {
   "cell_type": "code",
   "execution_count": 13,
   "metadata": {},
   "outputs": [],
   "source": [
    "query = \"CREATE TABLE IF NOT EXISTS user_song \"\n",
    "query += \"(song text, user_id int, first_name text, last_name text, PRIMARY KEY (song, user_id))\"\n",
    "try:\n",
    "    session.execute(query)\n",
    "except Exception as e:\n",
    "    print(e)"
   ]
  },
  {
   "cell_type": "markdown",
   "metadata": {},
   "source": [
    "##### Insert data"
   ]
  },
  {
   "cell_type": "code",
   "execution_count": 14,
   "metadata": {},
   "outputs": [],
   "source": [
    "with open(new_datafile, encoding = 'utf8') as f:\n",
    "    csvreader = csv.reader(f)\n",
    "    next(csvreader) # skip header\n",
    "    for line in csvreader:\n",
    "        query = \"INSERT INTO user_song (song, user_id, first_name, last_name)\"\n",
    "        query = query + \" VALUES (%s, %s, %s, %s)\"\n",
    "        session.execute(query, (line[9], int(line[10]), line[1], line[4]))"
   ]
  },
  {
   "cell_type": "markdown",
   "metadata": {},
   "source": [
    "## 3. Query data from database"
   ]
  },
  {
   "cell_type": "markdown",
   "metadata": {},
   "source": [
    "### 3.1. Give me the artist, song title and song's length in the music app history that was heard during  `sessionId = 338`, and `itemInSession  = 4`"
   ]
  },
  {
   "cell_type": "code",
   "execution_count": 15,
   "metadata": {
    "scrolled": true
   },
   "outputs": [
    {
     "name": "stdout",
     "output_type": "stream",
     "text": [
      "+-----------+---------------------------------+----------+\n",
      "| Artist    | Song                            |   Length |\n",
      "+-----------+---------------------------------+----------+\n",
      "| Faithless | Music Matters (Mark Knight Dub) | 495.3073 |\n",
      "+-----------+---------------------------------+----------+\n"
     ]
    }
   ],
   "source": [
    "query = \"SELECT artist, song, length FROM artist_song_session WHERE session_id=338 and item_in_session=4\"\n",
    "try:\n",
    "    rows = session.execute(query)\n",
    "except Exception as e:\n",
    "    print(e)\n",
    "    \n",
    "data = PrettyTable()\n",
    "data.field_names = [\"Artist\", \"Song\", \"Length\"]\n",
    "data.align = \"l\"\n",
    "data.align[\"Length\"] = \"r\"\n",
    "for row in rows:\n",
    "    data.add_row([row.artist, row.song, row.length])\n",
    "print(data)"
   ]
  },
  {
   "cell_type": "markdown",
   "metadata": {},
   "source": [
    "### 3.2. Give me only the following: name of artist, song (sorted by itemInSession) and user (first and last name) for `userid = 10` and `sessionid = 182`"
   ]
  },
  {
   "cell_type": "code",
   "execution_count": 16,
   "metadata": {},
   "outputs": [
    {
     "name": "stdout",
     "output_type": "stream",
     "text": [
      "+-------------------+------------------------------------------------------+-----------------+------------+-----------+\n",
      "| Artist            | Song                                                 | Item in session | First name | Last name |\n",
      "+-------------------+------------------------------------------------------+-----------------+------------+-----------+\n",
      "| Down To The Bone  | Keep On Keepin' On                                   |               0 | Sylvie     | Cruz      |\n",
      "| Three Drives      | Greece 2000                                          |               1 | Sylvie     | Cruz      |\n",
      "| Sebastien Tellier | Kilometer                                            |               2 | Sylvie     | Cruz      |\n",
      "| Lonnie Gordon     | Catch You Baby (Steve Pitron & Max Sanna Radio Edit) |               3 | Sylvie     | Cruz      |\n",
      "+-------------------+------------------------------------------------------+-----------------+------------+-----------+\n"
     ]
    }
   ],
   "source": [
    "query = \"SELECT item_in_session, artist, song, first_name, last_name FROM song_playlist_session \\\n",
    "WHERE user_id=10 and session_id=182\"\n",
    "try:\n",
    "    rows = session.execute(query)\n",
    "except Exception as e:\n",
    "    print(e)\n",
    "    \n",
    "data = PrettyTable()\n",
    "data.field_names = [\"Artist\", \"Song\", \"Item in session\", \"First name\", \"Last name\"]\n",
    "data.align = \"l\"\n",
    "data.align[\"Item in session\"] = \"r\"\n",
    "for row in rows:\n",
    "    data.add_row([row.artist, row.song, row.item_in_session, row.first_name, row.last_name])\n",
    "print(data)"
   ]
  },
  {
   "cell_type": "markdown",
   "metadata": {},
   "source": [
    "### 3.3. Give me every user name (first and last) in my music app history who listened to the song `All Hands Against His Own`"
   ]
  },
  {
   "cell_type": "code",
   "execution_count": 19,
   "metadata": {
    "scrolled": true
   },
   "outputs": [
    {
     "name": "stdout",
     "output_type": "stream",
     "text": [
      "+------------+-----------+\n",
      "| First name | Last name |\n",
      "+------------+-----------+\n",
      "| Jacqueline | Lynch     |\n",
      "| Tegan      | Levine    |\n",
      "| Sara       | Johnson   |\n",
      "+------------+-----------+\n"
     ]
    }
   ],
   "source": [
    "query = \"SELECT first_name, last_name FROM user_song WHERE song='All Hands Against His Own'\"\n",
    "try:\n",
    "    rows = session.execute(query)\n",
    "except Exception as e:\n",
    "    print(e)\n",
    "    \n",
    "data = PrettyTable()\n",
    "data.field_names = [\"First name\", \"Last name\"]\n",
    "data.align = \"l\"\n",
    "for row in rows:\n",
    "    data.add_row([row.first_name, row.last_name])\n",
    "print(data)"
   ]
  },
  {
   "cell_type": "markdown",
   "metadata": {},
   "source": [
    "## 4. Drop the tables"
   ]
  },
  {
   "cell_type": "code",
   "execution_count": 20,
   "metadata": {},
   "outputs": [
    {
     "name": "stdout",
     "output_type": "stream",
     "text": [
      "dropped table artist_song_session\n",
      "dropped table song_playlist_session\n",
      "dropped table user_song\n"
     ]
    }
   ],
   "source": [
    "tables = [\"artist_song_session\", \"song_playlist_session\", \"user_song\"]\n",
    "for table in tables:\n",
    "    query = \"drop table \" + table\n",
    "    try:\n",
    "        session.execute(query)\n",
    "        print(\"dropped table %s\" % table)\n",
    "    except Exception as e:\n",
    "        print(e)"
   ]
  },
  {
   "cell_type": "markdown",
   "metadata": {},
   "source": [
    "## 5. Close the session and cluster connection"
   ]
  },
  {
   "cell_type": "code",
   "execution_count": 21,
   "metadata": {},
   "outputs": [],
   "source": [
    "session.shutdown()\n",
    "cluster.shutdown()"
   ]
  },
  {
   "cell_type": "code",
   "execution_count": null,
   "metadata": {},
   "outputs": [],
   "source": []
  }
 ],
 "metadata": {
  "kernelspec": {
   "display_name": "Python 3",
   "language": "python",
   "name": "python3"
  },
  "language_info": {
   "codemirror_mode": {
    "name": "ipython",
    "version": 3
   },
   "file_extension": ".py",
   "mimetype": "text/x-python",
   "name": "python",
   "nbconvert_exporter": "python",
   "pygments_lexer": "ipython3",
   "version": "3.8.2"
  }
 },
 "nbformat": 4,
 "nbformat_minor": 2
}
